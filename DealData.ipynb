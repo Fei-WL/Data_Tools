{
 "cells": [
  {
   "cell_type": "markdown",
   "metadata": {},
   "source": [
    "# Tokenize处理"
   ]
  },
  {
   "cell_type": "markdown",
   "metadata": {},
   "source": [
    "## 数据地址"
   ]
  },
  {
   "cell_type": "code",
   "execution_count": null,
   "metadata": {},
   "outputs": [],
   "source": [
    "!python make_context.py --path ~/Project/fairseq/data/context"
   ]
  },
  {
   "cell_type": "code",
   "execution_count": 1,
   "metadata": {
    "scrolled": true
   },
   "outputs": [
    {
     "name": "stdout",
     "output_type": "stream",
     "text": [
      "Make relative dir(raw, tok, clean, bpe)\n",
      "/home/fwl/Project/data/CCMT/raw exists\n",
      "/home/fwl/Project/data/CCMT/tok exists\n",
      "/home/fwl/Project/data/CCMT/clean exists\n",
      "/home/fwl/Project/data/CCMT/bpe exists\n",
      "Make Normalization & Tokenize & Cleaning\n",
      "Normalize /home/fwl/Project/data/CCMT/raw/train.ti\n",
      "Tokenize /home/fwl/Project/data/CCMT/tok/train.norm.ti\n",
      "Tokenizer Version 1.1\n",
      "Language: ti\n",
      "Number of threads: 1\n",
      "WARNING: No known abbreviations for language 'ti', attempting fall-back to English version...\n",
      "Normalize /home/fwl/Project/data/CCMT/raw/dev.ti\n",
      "Tokenize /home/fwl/Project/data/CCMT/tok/dev.norm.ti\n",
      "Tokenizer Version 1.1\n",
      "Language: ti\n",
      "Number of threads: 1\n",
      "WARNING: No known abbreviations for language 'ti', attempting fall-back to English version...\n",
      "Normalize /home/fwl/Project/data/CCMT/raw/test.ti\n",
      "Tokenize /home/fwl/Project/data/CCMT/tok/test.norm.ti\n",
      "Tokenizer Version 1.1\n",
      "Language: ti\n",
      "Number of threads: 1\n",
      "WARNING: No known abbreviations for language 'ti', attempting fall-back to English version...\n",
      "Normalize /home/fwl/Project/data/CCMT/raw/train.zh\n",
      "Tokenize /home/fwl/Project/data/CCMT/tok/train.norm.zh\n",
      "Tokenizer Version 1.1\n",
      "Language: zh\n",
      "Number of threads: 1\n",
      "Normalize /home/fwl/Project/data/CCMT/raw/dev.zh\n",
      "Tokenize /home/fwl/Project/data/CCMT/tok/dev.norm.zh\n",
      "Tokenizer Version 1.1\n",
      "Language: zh\n",
      "Number of threads: 1\n",
      "Normalize /home/fwl/Project/data/CCMT/raw/test.zh\n",
      "Tokenize /home/fwl/Project/data/CCMT/tok/test.norm.zh\n",
      "Tokenizer Version 1.1\n",
      "Language: zh\n",
      "Number of threads: 1\n",
      "Clean the corpus\n",
      "Do clean /home/fwl/Project/data/CCMT/clean/train.ti /home/fwl/Project/data/CCMT/clean/train.zh\n",
      "clean-corpus.perl: processing /home/fwl/Project/data/CCMT/tok/train.tok.ti & .zh to /home/fwl/Project/data/CCMT/clean/train.clean, cutoff 0-200, ratio 9\n",
      "..........(100000).....\n",
      "Input sentences: 156567  Output sentences:  155082\n",
      "train Clean Done\n",
      "Do clean /home/fwl/Project/data/CCMT/clean/dev.ti /home/fwl/Project/data/CCMT/clean/dev.zh\n",
      "clean-corpus.perl: processing /home/fwl/Project/data/CCMT/tok/dev.tok.ti & .zh to /home/fwl/Project/data/CCMT/clean/dev.clean, cutoff 0-200, ratio 9\n",
      "\n",
      "Input sentences: 729  Output sentences:  729\n",
      "dev Clean Done\n",
      "Learn BPE code from training datas\n",
      "no pair has frequency >= 2. Stopping\n",
      "Get /home/fwl/Project/data/CCMT/bpe/ti.code & /home/fwl/Project/data/CCMT/bpe/ti.vocab\n",
      "Get /home/fwl/Project/data/CCMT/bpe/zh.code & /home/fwl/Project/data/CCMT/bpe/zh.vocab\n",
      "Apply BPE code to datas\n",
      "Get /home/fwl/Project/data/CCMT/bpe/train.bpe.ti\n",
      "Get /home/fwl/Project/data/CCMT/bpe/dev.bpe.ti\n",
      "Get /home/fwl/Project/data/CCMT/bpe/test.bpe.ti\n",
      "Get /home/fwl/Project/data/CCMT/bpe/train.bpe.zh\n",
      "Get /home/fwl/Project/data/CCMT/bpe/dev.bpe.zh\n",
      "Get /home/fwl/Project/data/CCMT/bpe/test.bpe.zh\n"
     ]
    }
   ],
   "source": [
    "!sh datadeal.sh ~/Project/data/CCMT/ ti zh"
   ]
  },
  {
   "cell_type": "code",
   "execution_count": 1,
   "metadata": {
    "scrolled": true
   },
   "outputs": [
    {
     "name": "stdout",
     "output_type": "stream",
     "text": [
      "Make relative dir(raw, tok, clean, bpe)\n",
      "/home/fwl/Project/data/CCMT/raw exists\n",
      "/home/fwl/Project/data/CCMT/tok exists\n",
      "/home/fwl/Project/data/CCMT/clean exists\n",
      "/home/fwl/Project/data/CCMT/bpe exists\n",
      "Make Normalization & Tokenize & Cleaning\n",
      "Normalize /home/fwl/Project/data/CCMT/raw/2020.ti\n",
      "Tokenize /home/fwl/Project/data/CCMT/tok/.norm.ti\n",
      "Tokenizer Version 1.1\n",
      "Language: ti\n",
      "Number of threads: 1\n",
      "WARNING: No known abbreviations for language 'ti', attempting fall-back to English version...\n",
      "Apply BPE code to datas\n",
      "Get /home/fwl/Project/data/CCMT/bpe/2020.ti.bpe\n"
     ]
    }
   ],
   "source": [
    "!sh datadeal_ti.sh ~/Project/data/CCMT/ ti 2020.ti"
   ]
  },
  {
   "cell_type": "code",
   "execution_count": 1,
   "metadata": {
    "scrolled": true
   },
   "outputs": [
    {
     "name": "stdout",
     "output_type": "stream",
     "text": [
      "Make relative dir(raw, tok, clean, bpe)\n",
      "/home/fwl/Project/data/CCMT/raw exists\n",
      "/home/fwl/Project/data/CCMT/tok exists\n",
      "/home/fwl/Project/data/CCMT/clean exists\n",
      "/home/fwl/Project/data/CCMT/bpe exists\n",
      "Make Normalization & Tokenize & Cleaning\n",
      "Normalize /home/fwl/Project/data/CCMT/raw/train.ti\n",
      "Tokenize /home/fwl/Project/data/CCMT/tok/train.norm.ti\n",
      "Tokenizer Version 1.1\n",
      "Language: ti\n",
      "Number of threads: 1\n",
      "WARNING: No known abbreviations for language 'ti', attempting fall-back to English version...\n",
      "Normalize /home/fwl/Project/data/CCMT/raw/dev.ti\n",
      "Tokenize /home/fwl/Project/data/CCMT/tok/dev.norm.ti\n",
      "Tokenizer Version 1.1\n",
      "Language: ti\n",
      "Number of threads: 1\n",
      "WARNING: No known abbreviations for language 'ti', attempting fall-back to English version...\n",
      "Normalize /home/fwl/Project/data/CCMT/raw/test.ti\n",
      "Tokenize /home/fwl/Project/data/CCMT/tok/test.norm.ti\n",
      "Tokenizer Version 1.1\n",
      "Language: ti\n",
      "Number of threads: 1\n",
      "WARNING: No known abbreviations for language 'ti', attempting fall-back to English version...\n",
      "Normalize /home/fwl/Project/data/CCMT/raw/train.zh\n",
      "Tokenize /home/fwl/Project/data/CCMT/tok/train.norm.zh\n",
      "Tokenizer Version 1.1\n",
      "Language: zh\n",
      "Number of threads: 1\n",
      "Normalize /home/fwl/Project/data/CCMT/raw/dev.zh\n",
      "Tokenize /home/fwl/Project/data/CCMT/tok/dev.norm.zh\n",
      "Tokenizer Version 1.1\n",
      "Language: zh\n",
      "Number of threads: 1\n",
      "Normalize /home/fwl/Project/data/CCMT/raw/test.zh\n",
      "Tokenize /home/fwl/Project/data/CCMT/tok/test.norm.zh\n",
      "Tokenizer Version 1.1\n",
      "Language: zh\n",
      "Number of threads: 1\n",
      "Clean the corpus\n",
      "Do clean /home/fwl/Project/data/CCMT/clean/train.ti /home/fwl/Project/data/CCMT/clean/train.zh\n",
      "clean-corpus.perl: processing /home/fwl/Project/data/CCMT/tok/train.tok.ti & .zh to /home/fwl/Project/data/CCMT/clean/train.clean, cutoff 0-200, ratio 9\n",
      "..........(100000).....\n",
      "Input sentences: 156567  Output sentences:  155082\n",
      "train Clean Done\n",
      "Do clean /home/fwl/Project/data/CCMT/clean/dev.ti /home/fwl/Project/data/CCMT/clean/dev.zh\n",
      "clean-corpus.perl: processing /home/fwl/Project/data/CCMT/tok/dev.tok.ti & .zh to /home/fwl/Project/data/CCMT/clean/dev.clean, cutoff 0-200, ratio 9\n",
      "\n",
      "Input sentences: 729  Output sentences:  729\n",
      "dev Clean Done\n",
      "Apply BPE code to datas\n",
      "Get /home/fwl/Project/data/CCMT/bpe/train.bpe.ti\n",
      "Get /home/fwl/Project/data/CCMT/bpe/dev.bpe.ti\n",
      "Get /home/fwl/Project/data/CCMT/bpe/test.bpe.ti\n",
      "Get /home/fwl/Project/data/CCMT/bpe/train.bpe.zh\n",
      "Get /home/fwl/Project/data/CCMT/bpe/dev.bpe.zh\n",
      "Get /home/fwl/Project/data/CCMT/bpe/test.bpe.zh\n"
     ]
    }
   ],
   "source": [
    "!sh datadeal_withdic.sh ~/Project/data/CCMT/ ~/Project/data/CCMT/raw/monolingual/raw ti zh"
   ]
  },
  {
   "cell_type": "code",
   "execution_count": 1,
   "metadata": {},
   "outputs": [],
   "source": [
    "!cat datadeal.sh > datadeal_ti.sh"
   ]
  },
  {
   "cell_type": "code",
   "execution_count": 1,
   "metadata": {},
   "outputs": [
    {
     "name": "stdout",
     "output_type": "stream",
     "text": [
      "BLEU = 31.55, 52.0/33.4/25.9/22.5 (BP=0.995, ratio=0.995, hyp_len=6245, ref_len=6274)\r\n",
      "It is not advisable to publish scores from multi-bleu.perl.  The scores depend on your tokenizer, which is unlikely to be reproducible from your paper or consistent across research groups.  Instead you should detokenize then use mteval-v14.pl, which has a standard tokenization.  Scores from multi-bleu.perl can still be used for internal purposes when you have a consistent tokenizer.\r\n"
     ]
    }
   ],
   "source": [
    "!perl multi-bleu.perl ~/Project/data/CCMT/model/baseline_joined/bt_data.ref < ~/Project/data/CCMT/model/baseline_joined/bt_data.zh"
   ]
  },
  {
   "cell_type": "code",
   "execution_count": null,
   "metadata": {},
   "outputs": [],
   "source": []
  },
  {
   "cell_type": "code",
   "execution_count": 2,
   "metadata": {
    "scrolled": true
   },
   "outputs": [
    {
     "data": {
      "text/plain": [
       "torch.Size([4])"
      ]
     },
     "execution_count": 2,
     "metadata": {},
     "output_type": "execute_result"
    }
   ],
   "source": [
    "import torch\n",
    "\n",
    "pad_index = 0\n",
    "eos_index = 1\n",
    "t1 = torch.tensor([1,2,3,4])\n",
    "t1.size()"
   ]
  },
  {
   "cell_type": "code",
   "execution_count": 2,
   "metadata": {},
   "outputs": [],
   "source": [
    "!perl mosesdecoder/scripts/tokenizer/normalize-punctuation.perl -l \\\n",
    "zh < ~/Project/data/CCMT/bt_raw/sub/train0.zh > ~/Project/data/CCMT/bt_raw/monolingual/parallel.norm.zh"
   ]
  },
  {
   "cell_type": "code",
   "execution_count": 3,
   "metadata": {},
   "outputs": [
    {
     "name": "stdout",
     "output_type": "stream",
     "text": [
      "Tokenizer Version 1.1\r\n",
      "Language: zh\r\n",
      "Number of threads: 1\r\n"
     ]
    }
   ],
   "source": [
    "!perl mosesdecoder/scripts/tokenizer/tokenizer.perl -no-escape -l \\\n",
    "zh < ~/Project/data/CCMT/bt_raw/monolingual/parallel.norm.zh > ~/Project/data/CCMT/bt_raw/monolingual/parallel.tok.zh"
   ]
  },
  {
   "cell_type": "code",
   "execution_count": 4,
   "metadata": {},
   "outputs": [
    {
     "name": "stdout",
     "output_type": "stream",
     "text": [
      "Tokenizer Version 1.1\n",
      "Language: zh\n",
      "Number of threads: 1\n",
      "Tokenizer Version 1.1\n",
      "Language: zh\n",
      "Number of threads: 1\n",
      "Tokenizer Version 1.1\n",
      "Language: zh\n",
      "Number of threads: 1\n",
      "Tokenizer Version 1.1\n",
      "Language: zh\n",
      "Number of threads: 1\n",
      "Tokenizer Version 1.1\n",
      "Language: zh\n",
      "Number of threads: 1\n",
      "Tokenizer Version 1.1\n",
      "Language: zh\n",
      "Number of threads: 1\n"
     ]
    }
   ],
   "source": [
    "!for i in `seq 6`;do perl mosesdecoder/scripts/tokenizer/tokenizer.perl -no-escape -l \\\n",
    "zh < ~/Project/data/CCMT/bt_raw/monolingual/monolingual$i.norm.zh > ~/Project/data/CCMT/bt_raw/monolingual/monolingual$i.tok.ti;done"
   ]
  },
  {
   "cell_type": "code",
   "execution_count": null,
   "metadata": {},
   "outputs": [],
   "source": [
    "!nohup subword-nmt learn-joint-bpe-and-vocab -i ~/Project/data/CCMT/bt_raw/monolingual/total.tok.zh \\\n",
    "-o ~/Project/data/CCMT/bt_raw/monolingual/code.zh \\\n",
    "--write-vocabulary ~/Project/data/CCMT/bt_raw/monolingual/vocab.zh &"
   ]
  },
  {
   "cell_type": "code",
   "execution_count": 3,
   "metadata": {},
   "outputs": [],
   "source": [
    "!subword-nmt apply-bpe -i ~/Project/data/CCMT/raw/test_2020.tok.ti -c \\\n",
    "~/Project/data/CCMT/bpe/ti.code -o ~/Project/data/CCMT/bpe/test_2020.bpe.ti"
   ]
  },
  {
   "cell_type": "code",
   "execution_count": 4,
   "metadata": {},
   "outputs": [],
   "source": [
    "!rm ~/Project/data/CCMT/raw/test_2020.norm.ti ~/Project/data/CCMT/raw/test_2020.tok.ti"
   ]
  }
 ],
 "metadata": {
  "kernelspec": {
   "display_name": "Python 3",
   "language": "python",
   "name": "python3"
  },
  "language_info": {
   "codemirror_mode": {
    "name": "ipython",
    "version": 3
   },
   "file_extension": ".py",
   "mimetype": "text/x-python",
   "name": "python",
   "nbconvert_exporter": "python",
   "pygments_lexer": "ipython3",
   "version": "3.6.13"
  },
  "toc": {
   "base_numbering": 1,
   "nav_menu": {},
   "number_sections": true,
   "sideBar": true,
   "skip_h1_title": false,
   "title_cell": "Table of Contents",
   "title_sidebar": "Contents",
   "toc_cell": false,
   "toc_position": {},
   "toc_section_display": true,
   "toc_window_display": false
  }
 },
 "nbformat": 4,
 "nbformat_minor": 4
}
