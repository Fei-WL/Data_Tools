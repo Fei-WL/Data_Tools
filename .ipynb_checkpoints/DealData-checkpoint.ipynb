{
 "cells": [
  {
   "cell_type": "markdown",
   "metadata": {},
   "source": [
    "# Tokenize处理"
   ]
  },
  {
   "cell_type": "markdown",
   "metadata": {},
   "source": [
    "## 数据地址"
   ]
  },
  {
   "cell_type": "code",
   "execution_count": 10,
   "metadata": {},
   "outputs": [
    {
     "name": "stdout",
     "output_type": "stream",
     "text": [
      "/home/fwl/Project/fairseq/data/context\r\n",
      "True\r\n"
     ]
    }
   ],
   "source": [
    "!python make_context.py --path ~/Project/fairseq/data/context"
   ]
  },
  {
   "cell_type": "code",
   "execution_count": 16,
   "metadata": {
    "scrolled": false
   },
   "outputs": [
    {
     "name": "stdout",
     "output_type": "stream",
     "text": [
      "Make relative dir(raw, tok, clean, bpe)\r\n",
      "/home/fwl/Project/fairseq/data/context/raw exists\r\n",
      "/home/fwl/Project/fairseq/data/context/tok exists\r\n",
      "/home/fwl/Project/fairseq/data/context/clean exists\r\n",
      "/home/fwl/Project/fairseq/data/context/bpe exists\r\n",
      "Apply BPE code to datas\r\n",
      "Get /home/fwl/Project/fairseq/data/context/bpe/train.bpe.zh\r\n",
      "Is zh\r\n",
      "Get /home/fwl/Project/fairseq/data/context/bpe/dev.bpe.zh\r\n",
      "Is zh\r\n",
      "Get /home/fwl/Project/fairseq/data/context/bpe/test.bpe.zh\r\n",
      "Is zh\r\n",
      "Get /home/fwl/Project/fairseq/data/context/bpe/train.bpe.en\r\n",
      "Is zh\r\n",
      "Get /home/fwl/Project/fairseq/data/context/bpe/dev.bpe.en\r\n",
      "Is zh\r\n",
      "Get /home/fwl/Project/fairseq/data/context/bpe/test.bpe.en\r\n",
      "Is zh\r\n"
     ]
    }
   ],
   "source": [
    "!sh datadeal.sh ~/Project/fairseq/data/context/ zh en sent"
   ]
  },
  {
   "cell_type": "code",
   "execution_count": null,
   "metadata": {},
   "outputs": [],
   "source": []
  }
 ],
 "metadata": {
  "kernelspec": {
   "display_name": "Python [conda env:pytorch] *",
   "language": "python",
   "name": "conda-env-pytorch-py"
  },
  "language_info": {
   "codemirror_mode": {
    "name": "ipython",
    "version": 3
   },
   "file_extension": ".py",
   "mimetype": "text/x-python",
   "name": "python",
   "nbconvert_exporter": "python",
   "pygments_lexer": "ipython3",
   "version": "3.6.9"
  },
  "toc": {
   "base_numbering": 1,
   "nav_menu": {},
   "number_sections": true,
   "sideBar": true,
   "skip_h1_title": false,
   "title_cell": "Table of Contents",
   "title_sidebar": "Contents",
   "toc_cell": false,
   "toc_position": {},
   "toc_section_display": true,
   "toc_window_display": false
  }
 },
 "nbformat": 4,
 "nbformat_minor": 4
}
